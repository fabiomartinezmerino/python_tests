{
 "cells": [
  {
   "cell_type": "code",
   "execution_count": 1,
   "metadata": {},
   "outputs": [],
   "source": [
    "import numpy\n"
   ]
  },
  {
   "cell_type": "code",
   "execution_count": 2,
   "metadata": {},
   "outputs": [],
   "source": [
    "#array creation from a list - in this case a 2x2 matrix is built up from a \"list of lists\"\n",
    "my_test_array = numpy.array([[3,2,4],[4,8,6],[2,0,5]])"
   ]
  },
  {
   "cell_type": "code",
   "execution_count": 3,
   "metadata": {},
   "outputs": [
    {
     "data": {
      "text/plain": [
       "array([[3, 2, 4],\n",
       "       [4, 8, 6],\n",
       "       [2, 0, 5]])"
      ]
     },
     "execution_count": 3,
     "metadata": {},
     "output_type": "execute_result"
    }
   ],
   "source": [
    "my_test_array"
   ]
  },
  {
   "cell_type": "code",
   "execution_count": 10,
   "metadata": {},
   "outputs": [],
   "source": [
    "#we can ask what the dimension of the array is\n"
   ]
  },
  {
   "cell_type": "code",
   "execution_count": 11,
   "metadata": {},
   "outputs": [
    {
     "data": {
      "text/plain": [
       "(3, 3)"
      ]
     },
     "execution_count": 11,
     "metadata": {},
     "output_type": "execute_result"
    }
   ],
   "source": [
    "my_test_array.shape"
   ]
  },
  {
   "cell_type": "code",
   "execution_count": 12,
   "metadata": {},
   "outputs": [
    {
     "data": {
      "text/plain": [
       "True"
      ]
     },
     "execution_count": 12,
     "metadata": {},
     "output_type": "execute_result"
    }
   ],
   "source": [
    "3 in my_test_array\n"
   ]
  },
  {
   "cell_type": "code",
   "execution_count": 13,
   "metadata": {},
   "outputs": [
    {
     "data": {
      "text/plain": [
       "True"
      ]
     },
     "execution_count": 13,
     "metadata": {},
     "output_type": "execute_result"
    }
   ],
   "source": [
    "[4,8,6] in my_test_array"
   ]
  },
  {
   "cell_type": "code",
   "execution_count": 14,
   "metadata": {},
   "outputs": [
    {
     "data": {
      "text/plain": [
       "True"
      ]
     },
     "execution_count": 14,
     "metadata": {},
     "output_type": "execute_result"
    }
   ],
   "source": [
    "[4,8,3] in my_test_array"
   ]
  },
  {
   "cell_type": "code",
   "execution_count": 15,
   "metadata": {},
   "outputs": [],
   "source": [
    "#:-( if any number of the testing list exists in the array \"in\" returns true.... "
   ]
  },
  {
   "cell_type": "code",
   "execution_count": 16,
   "metadata": {},
   "outputs": [
    {
     "data": {
      "text/plain": [
       "numpy.ndarray"
      ]
     },
     "execution_count": 16,
     "metadata": {},
     "output_type": "execute_result"
    }
   ],
   "source": [
    "type(my_test_array)"
   ]
  },
  {
   "cell_type": "code",
   "execution_count": 18,
   "metadata": {},
   "outputs": [
    {
     "data": {
      "text/plain": [
       "dtype('int64')"
      ]
     },
     "execution_count": 18,
     "metadata": {},
     "output_type": "execute_result"
    }
   ],
   "source": [
    "my_test_array.dtype"
   ]
  },
  {
   "cell_type": "code",
   "execution_count": 21,
   "metadata": {},
   "outputs": [
    {
     "data": {
      "text/plain": [
       "array([[1., 1., 1., 1., 1., 1.],\n",
       "       [1., 1., 1., 1., 1., 1.],\n",
       "       [1., 1., 1., 1., 1., 1.],\n",
       "       [1., 1., 1., 1., 1., 1.],\n",
       "       [1., 1., 1., 1., 1., 1.],\n",
       "       [1., 1., 1., 1., 1., 1.]])"
      ]
     },
     "execution_count": 21,
     "metadata": {},
     "output_type": "execute_result"
    }
   ],
   "source": [
    "#create a matrix filled with ones - takes as argument a list with two numbers - rows and columns\n",
    "numpy.ones([6,6])"
   ]
  },
  {
   "cell_type": "code",
   "execution_count": 22,
   "metadata": {},
   "outputs": [
    {
     "data": {
      "text/plain": [
       "array([[0., 0., 0., 0., 0.],\n",
       "       [0., 0., 0., 0., 0.],\n",
       "       [0., 0., 0., 0., 0.],\n",
       "       [0., 0., 0., 0., 0.]])"
      ]
     },
     "execution_count": 22,
     "metadata": {},
     "output_type": "execute_result"
    }
   ],
   "source": [
    "#create a matrix filled with zeroes - takes as argument a list with two numbers - rows and columns\n",
    "numpy.zeros([4,5])"
   ]
  },
  {
   "cell_type": "code",
   "execution_count": 23,
   "metadata": {},
   "outputs": [
    {
     "data": {
      "text/plain": [
       "array([[1., 0., 0., 0.],\n",
       "       [0., 1., 0., 0.],\n",
       "       [0., 0., 1., 0.],\n",
       "       [0., 0., 0., 1.]])"
      ]
     },
     "execution_count": 23,
     "metadata": {},
     "output_type": "execute_result"
    }
   ],
   "source": [
    "#create an identity array - as an identity matrix must be an square matrix only argument it take is number of rows == columns\n",
    "numpy.identity(4)"
   ]
  },
  {
   "cell_type": "code",
   "execution_count": 35,
   "metadata": {},
   "outputs": [
    {
     "data": {
      "text/plain": [
       "array([[19, 11],\n",
       "       [25, 17]])"
      ]
     },
     "execution_count": 35,
     "metadata": {},
     "output_type": "execute_result"
    }
   ],
   "source": [
    "#multiplying matrix\n",
    "arr1 = numpy.array([[3,2,1],[2,4,5]])\n",
    "arr2 = numpy.array([[4,2],[3,2],[1,1]])\n",
    "arrresult = numpy.matmul(arr1,arr2)\n",
    "arrresult\n"
   ]
  },
  {
   "cell_type": "code",
   "execution_count": 32,
   "metadata": {},
   "outputs": [
    {
     "data": {
      "text/plain": [
       "(2, 3)"
      ]
     },
     "execution_count": 32,
     "metadata": {},
     "output_type": "execute_result"
    }
   ],
   "source": [
    "arr1.shape"
   ]
  },
  {
   "cell_type": "code",
   "execution_count": 33,
   "metadata": {},
   "outputs": [
    {
     "data": {
      "text/plain": [
       "(3, 2)"
      ]
     },
     "execution_count": 33,
     "metadata": {},
     "output_type": "execute_result"
    }
   ],
   "source": [
    "arr2.shape"
   ]
  },
  {
   "cell_type": "code",
   "execution_count": 59,
   "metadata": {},
   "outputs": [],
   "source": [
    "#use of slice notation\n",
    "\n",
    "#original array\n",
    "\n",
    "originalArray = numpy.matrix([[2,3,4],[4,5,6],[7,8,9]])\n",
    "\n",
    "#sliced array all the rows but only first two columns\n",
    "slicedArray = originalArray[:,:2]"
   ]
  },
  {
   "cell_type": "code",
   "execution_count": 60,
   "metadata": {},
   "outputs": [
    {
     "data": {
      "text/plain": [
       "matrix([[2, 3],\n",
       "        [4, 5],\n",
       "        [7, 8]])"
      ]
     },
     "execution_count": 60,
     "metadata": {},
     "output_type": "execute_result"
    }
   ],
   "source": [
    "slicedArray"
   ]
  },
  {
   "cell_type": "code",
   "execution_count": 67,
   "metadata": {},
   "outputs": [
    {
     "data": {
      "text/plain": [
       "matrix([[7, 8]])"
      ]
     },
     "execution_count": 67,
     "metadata": {},
     "output_type": "execute_result"
    }
   ],
   "source": [
    "# refering to a specific row\n",
    "slicedArray[2,:]"
   ]
  },
  {
   "cell_type": "code",
   "execution_count": 68,
   "metadata": {},
   "outputs": [
    {
     "data": {
      "text/plain": [
       "matrix([[2],\n",
       "        [4],\n",
       "        [7]])"
      ]
     },
     "execution_count": 68,
     "metadata": {},
     "output_type": "execute_result"
    }
   ],
   "source": [
    "#refering to a specific column\n",
    "slicedArray[:,0]"
   ]
  },
  {
   "cell_type": "code",
   "execution_count": 3,
   "metadata": {},
   "outputs": [],
   "source": [
    "import numpy\n",
    "#matrix trasposition\n",
    "my_matrix = numpy.matrix(range(1,200,2))"
   ]
  },
  {
   "cell_type": "code",
   "execution_count": 4,
   "metadata": {},
   "outputs": [
    {
     "data": {
      "text/plain": [
       "matrix([[  1,   3,   5,   7,   9,  11,  13,  15,  17,  19,  21,  23,  25,\n",
       "          27,  29,  31,  33,  35,  37,  39,  41,  43,  45,  47,  49,  51,\n",
       "          53,  55,  57,  59,  61,  63,  65,  67,  69,  71,  73,  75,  77,\n",
       "          79,  81,  83,  85,  87,  89,  91,  93,  95,  97,  99, 101, 103,\n",
       "         105, 107, 109, 111, 113, 115, 117, 119, 121, 123, 125, 127, 129,\n",
       "         131, 133, 135, 137, 139, 141, 143, 145, 147, 149, 151, 153, 155,\n",
       "         157, 159, 161, 163, 165, 167, 169, 171, 173, 175, 177, 179, 181,\n",
       "         183, 185, 187, 189, 191, 193, 195, 197, 199]])"
      ]
     },
     "execution_count": 4,
     "metadata": {},
     "output_type": "execute_result"
    }
   ],
   "source": [
    "my_matrix"
   ]
  },
  {
   "cell_type": "code",
   "execution_count": 5,
   "metadata": {},
   "outputs": [
    {
     "data": {
      "text/plain": [
       "matrix([[  1,   3,   5,   7,   9,  11,  13,  15,  17,  19],\n",
       "        [ 21,  23,  25,  27,  29,  31,  33,  35,  37,  39],\n",
       "        [ 41,  43,  45,  47,  49,  51,  53,  55,  57,  59],\n",
       "        [ 61,  63,  65,  67,  69,  71,  73,  75,  77,  79],\n",
       "        [ 81,  83,  85,  87,  89,  91,  93,  95,  97,  99],\n",
       "        [101, 103, 105, 107, 109, 111, 113, 115, 117, 119],\n",
       "        [121, 123, 125, 127, 129, 131, 133, 135, 137, 139],\n",
       "        [141, 143, 145, 147, 149, 151, 153, 155, 157, 159],\n",
       "        [161, 163, 165, 167, 169, 171, 173, 175, 177, 179],\n",
       "        [181, 183, 185, 187, 189, 191, 193, 195, 197, 199]])"
      ]
     },
     "execution_count": 5,
     "metadata": {},
     "output_type": "execute_result"
    }
   ],
   "source": [
    "my_matrix.reshape(10,10)"
   ]
  },
  {
   "cell_type": "code",
   "execution_count": 6,
   "metadata": {},
   "outputs": [
    {
     "data": {
      "text/plain": [
       "matrix([[  1,   3,   5,   7,   9,  11,  13,  15,  17,  19,  21,  23,  25,\n",
       "          27,  29,  31,  33,  35,  37,  39,  41,  43,  45,  47,  49,  51,\n",
       "          53,  55,  57,  59,  61,  63,  65,  67,  69,  71,  73,  75,  77,\n",
       "          79,  81,  83,  85,  87,  89,  91,  93,  95,  97,  99, 101, 103,\n",
       "         105, 107, 109, 111, 113, 115, 117, 119, 121, 123, 125, 127, 129,\n",
       "         131, 133, 135, 137, 139, 141, 143, 145, 147, 149, 151, 153, 155,\n",
       "         157, 159, 161, 163, 165, 167, 169, 171, 173, 175, 177, 179, 181,\n",
       "         183, 185, 187, 189, 191, 193, 195, 197, 199]])"
      ]
     },
     "execution_count": 6,
     "metadata": {},
     "output_type": "execute_result"
    }
   ],
   "source": [
    "my_matrix"
   ]
  },
  {
   "cell_type": "markdown",
   "metadata": {},
   "source": []
  },
  {
   "cell_type": "code",
   "execution_count": 12,
   "metadata": {},
   "outputs": [
    {
     "data": {
      "text/plain": [
       "matrix([[  1,   3,   5,   7,   9,  11,  13,  15,  17,  19,  21,  23,  25,\n",
       "          27,  29,  31,  33,  35,  37,  39,  41,  43,  45,  47,  49,  51,\n",
       "          53,  55,  57,  59,  61,  63,  65,  67,  69,  71,  73,  75,  77,\n",
       "          79,  81,  83,  85,  87,  89,  91,  93,  95,  97,  99, 101, 103,\n",
       "         105, 107, 109, 111, 113, 115, 117, 119, 121, 123, 125, 127, 129,\n",
       "         131, 133, 135, 137, 139, 141, 143, 145, 147, 149, 151, 153, 155,\n",
       "         157, 159, 161, 163, 165, 167, 169, 171, 173, 175, 177, 179, 181,\n",
       "         183, 185, 187, 189, 191, 193, 195, 197, 199]])"
      ]
     },
     "execution_count": 12,
     "metadata": {},
     "output_type": "execute_result"
    }
   ],
   "source": [
    "my_matrix"
   ]
  },
  {
   "cell_type": "code",
   "execution_count": 13,
   "metadata": {},
   "outputs": [
    {
     "data": {
      "text/plain": [
       "matrix([[  1],\n",
       "        [  3],\n",
       "        [  5],\n",
       "        [  7],\n",
       "        [  9],\n",
       "        [ 11],\n",
       "        [ 13],\n",
       "        [ 15],\n",
       "        [ 17],\n",
       "        [ 19],\n",
       "        [ 21],\n",
       "        [ 23],\n",
       "        [ 25],\n",
       "        [ 27],\n",
       "        [ 29],\n",
       "        [ 31],\n",
       "        [ 33],\n",
       "        [ 35],\n",
       "        [ 37],\n",
       "        [ 39],\n",
       "        [ 41],\n",
       "        [ 43],\n",
       "        [ 45],\n",
       "        [ 47],\n",
       "        [ 49],\n",
       "        [ 51],\n",
       "        [ 53],\n",
       "        [ 55],\n",
       "        [ 57],\n",
       "        [ 59],\n",
       "        [ 61],\n",
       "        [ 63],\n",
       "        [ 65],\n",
       "        [ 67],\n",
       "        [ 69],\n",
       "        [ 71],\n",
       "        [ 73],\n",
       "        [ 75],\n",
       "        [ 77],\n",
       "        [ 79],\n",
       "        [ 81],\n",
       "        [ 83],\n",
       "        [ 85],\n",
       "        [ 87],\n",
       "        [ 89],\n",
       "        [ 91],\n",
       "        [ 93],\n",
       "        [ 95],\n",
       "        [ 97],\n",
       "        [ 99],\n",
       "        [101],\n",
       "        [103],\n",
       "        [105],\n",
       "        [107],\n",
       "        [109],\n",
       "        [111],\n",
       "        [113],\n",
       "        [115],\n",
       "        [117],\n",
       "        [119],\n",
       "        [121],\n",
       "        [123],\n",
       "        [125],\n",
       "        [127],\n",
       "        [129],\n",
       "        [131],\n",
       "        [133],\n",
       "        [135],\n",
       "        [137],\n",
       "        [139],\n",
       "        [141],\n",
       "        [143],\n",
       "        [145],\n",
       "        [147],\n",
       "        [149],\n",
       "        [151],\n",
       "        [153],\n",
       "        [155],\n",
       "        [157],\n",
       "        [159],\n",
       "        [161],\n",
       "        [163],\n",
       "        [165],\n",
       "        [167],\n",
       "        [169],\n",
       "        [171],\n",
       "        [173],\n",
       "        [175],\n",
       "        [177],\n",
       "        [179],\n",
       "        [181],\n",
       "        [183],\n",
       "        [185],\n",
       "        [187],\n",
       "        [189],\n",
       "        [191],\n",
       "        [193],\n",
       "        [195],\n",
       "        [197],\n",
       "        [199]])"
      ]
     },
     "execution_count": 13,
     "metadata": {},
     "output_type": "execute_result"
    }
   ],
   "source": [
    "my_matrix.T"
   ]
  },
  {
   "cell_type": "code",
   "execution_count": 18,
   "metadata": {},
   "outputs": [
    {
     "data": {
      "text/plain": [
       "array([[1, 2, 3],\n",
       "       [4, 5, 6],\n",
       "       [7, 8, 9]])"
      ]
     },
     "execution_count": 18,
     "metadata": {},
     "output_type": "execute_result"
    }
   ],
   "source": [
    "#universal functions\n",
    "import numpy as np\n",
    "\n",
    "test_array = np.array([[1,2,3],[4,5,6],[7,8,9]])\n",
    "test_array"
   ]
  },
  {
   "cell_type": "code",
   "execution_count": 20,
   "metadata": {},
   "outputs": [
    {
     "data": {
      "text/plain": [
       "array([[0.        , 0.69314718, 1.09861229],\n",
       "       [1.38629436, 1.60943791, 1.79175947],\n",
       "       [1.94591015, 2.07944154, 2.19722458]])"
      ]
     },
     "execution_count": 20,
     "metadata": {},
     "output_type": "execute_result"
    }
   ],
   "source": [
    "np.log(test_array)"
   ]
  },
  {
   "cell_type": "code",
   "execution_count": null,
   "metadata": {},
   "outputs": [],
   "source": []
  }
 ],
 "metadata": {
  "kernelspec": {
   "display_name": "Python 3",
   "language": "python",
   "name": "python3"
  },
  "language_info": {
   "codemirror_mode": {
    "name": "ipython",
    "version": 3
   },
   "file_extension": ".py",
   "mimetype": "text/x-python",
   "name": "python",
   "nbconvert_exporter": "python",
   "pygments_lexer": "ipython3",
   "version": "3.6.5"
  }
 },
 "nbformat": 4,
 "nbformat_minor": 2
}
