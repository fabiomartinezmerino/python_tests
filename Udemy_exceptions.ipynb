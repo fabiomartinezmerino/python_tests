{
 "cells": [
  {
   "cell_type": "code",
   "execution_count": 10,
   "metadata": {},
   "outputs": [
    {
     "name": "stdout",
     "output_type": "stream",
     "text": [
      "Please introduce a number and type enter. Type enter only to finish1\n",
      "Loading is fine\n",
      "Please introduce a number and type enter. Type enter only to finish2\n",
      "Loading is fine\n",
      "Please introduce a number and type enter. Type enter only to finish3\n",
      "Loading is fine\n",
      "Please introduce a number and type enter. Type enter only to finish\n",
      "No number to load or input has finished\n",
      "List is [1, 2, 3]\n",
      "The minimum value loaded into list is 1\n"
     ]
    }
   ],
   "source": [
    "def min_of_list(my_list):\n",
    "    try:\n",
    "        return min(my_list)\n",
    "    except:\n",
    "        print (\"An error has occurred\")\n",
    "\n",
    "    else:\n",
    "        print (\"Everything is fine\")\n",
    "def load_list(my_list):\n",
    "    \n",
    "    my_number = 0\n",
    "    my_char = \"0\"\n",
    "    while (my_char != \"\"):\n",
    "        my_char = input(\"Please introduce a number and type enter. Type enter only to finish\")\n",
    "        try:\n",
    "            \n",
    "            my_list.append(int(my_char))\n",
    "            \n",
    "        except:\n",
    "            print(\"No number to load or input has finished\")\n",
    "            print(\"List is {}\".format(my_list))\n",
    "        else:\n",
    "            print(\"Loading is fine\")\n",
    "\n",
    "        \n",
    "        \n",
    "my_list = []        \n",
    "load_list(my_list)\n",
    "print(\"The minimum value loaded into list is {}\". format(min_of_list(my_list)))\n",
    "\n",
    "\n",
    "    \n",
    "            "
   ]
  },
  {
   "cell_type": "code",
   "execution_count": null,
   "metadata": {},
   "outputs": [],
   "source": []
  }
 ],
 "metadata": {
  "kernelspec": {
   "display_name": "Python 3",
   "language": "python",
   "name": "python3"
  },
  "language_info": {
   "codemirror_mode": {
    "name": "ipython",
    "version": 3
   },
   "file_extension": ".py",
   "mimetype": "text/x-python",
   "name": "python",
   "nbconvert_exporter": "python",
   "pygments_lexer": "ipython3",
   "version": "3.6.5"
  }
 },
 "nbformat": 4,
 "nbformat_minor": 2
}
