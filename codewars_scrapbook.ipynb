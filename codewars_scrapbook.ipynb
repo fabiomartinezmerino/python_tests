{
 "cells": [
  {
   "cell_type": "code",
   "execution_count": 3,
   "metadata": {},
   "outputs": [
    {
     "name": "stdout",
     "output_type": "stream",
     "text": [
      "La clave: 3 contiene el valor: [3, 4, 5]\n",
      "La clave: 5 contiene el valor: [7, 8, 9]\n",
      "La clave: 567 contiene el valor: [32, 34]\n"
     ]
    }
   ],
   "source": [
    "my_dict = {3:[3,4,5],5:[7,8,9],567:[32,34]}\n",
    "for i,k in my_dict.items():\n",
    "    print(\"La clave: {0} contiene el valor: {1}\".format(i,k))"
   ]
  },
  {
   "cell_type": "code",
   "execution_count": 4,
   "metadata": {},
   "outputs": [
    {
     "name": "stdout",
     "output_type": "stream",
     "text": [
      "[3, 5, 567]\n"
     ]
    }
   ],
   "source": [
    "my_transformed_list = list (my_dict)\n",
    "print (my_transformed_list)"
   ]
  },
  {
   "cell_type": "raw",
   "metadata": {},
   "source": [
    "my_dict.items()   "
   ]
  },
  {
   "cell_type": "code",
   "execution_count": 5,
   "metadata": {},
   "outputs": [
    {
     "data": {
      "text/plain": [
       "dict_items([(3, [3, 4, 5]), (5, [7, 8, 9]), (567, [32, 34])])"
      ]
     },
     "execution_count": 5,
     "metadata": {},
     "output_type": "execute_result"
    }
   ],
   "source": [
    "my_dict.items()"
   ]
  },
  {
   "cell_type": "code",
   "execution_count": 6,
   "metadata": {},
   "outputs": [],
   "source": [
    "my_list_to_return = [[my_key,my_value] for my_key, my_value in my_dict.items()]"
   ]
  },
  {
   "cell_type": "code",
   "execution_count": 7,
   "metadata": {},
   "outputs": [
    {
     "data": {
      "text/plain": [
       "[[3, [3, 4, 5]], [5, [7, 8, 9]], [567, [32, 34]]]"
      ]
     },
     "execution_count": 7,
     "metadata": {},
     "output_type": "execute_result"
    }
   ],
   "source": [
    "my_list_to_return"
   ]
  },
  {
   "cell_type": "code",
   "execution_count": 8,
   "metadata": {},
   "outputs": [
    {
     "data": {
      "text/plain": [
       "True"
      ]
     },
     "execution_count": 8,
     "metadata": {},
     "output_type": "execute_result"
    }
   ],
   "source": [
    "567 in my_dict"
   ]
  },
  {
   "cell_type": "code",
   "execution_count": 9,
   "metadata": {},
   "outputs": [
    {
     "data": {
      "text/plain": [
       "False"
      ]
     },
     "execution_count": 9,
     "metadata": {},
     "output_type": "execute_result"
    }
   ],
   "source": [
    "4 in my_dict"
   ]
  },
  {
   "cell_type": "code",
   "execution_count": 26,
   "metadata": {},
   "outputs": [
    {
     "name": "stdout",
     "output_type": "stream",
     "text": [
      "Mi lista es: ['A042', 'B004', 'A025', 'A042', 'C025']\n",
      "Mi lista es: ['B009', 'B040', 'B004', 'A042', 'A025', 'A042']\n",
      "Mi lista es: ['A042', 'A025', 'B004']\n"
     ]
    }
   ],
   "source": [
    "import math\n",
    "\n",
    "a1 = ['A042', 'B004', 'A025', 'A042', 'C025']\n",
    "a2 = ['B009', 'B040', 'B004', 'A042', 'A025', 'A042']\n",
    "a3 = ['A042', 'A025', 'B004']\n",
    "my_list = (a1 and a1)\n",
    "print(\"Mi lista es: {0}\".format(my_list) )\n",
    "\n",
    "my_list = (a1 and a2)\n",
    "print(\"Mi lista es: {0}\".format(my_list) )\n",
    "\n",
    "my_list = my_list and a3\n",
    "\n",
    "print(\"Mi lista es: {0}\".format(my_list) )\n"
   ]
  },
  {
   "cell_type": "code",
   "execution_count": null,
   "metadata": {},
   "outputs": [],
   "source": []
  }
 ],
 "metadata": {
  "kernelspec": {
   "display_name": "Python 3",
   "language": "python",
   "name": "python3"
  },
  "language_info": {
   "codemirror_mode": {
    "name": "ipython",
    "version": 3
   },
   "file_extension": ".py",
   "mimetype": "text/x-python",
   "name": "python",
   "nbconvert_exporter": "python",
   "pygments_lexer": "ipython3",
   "version": "3.6.5"
  }
 },
 "nbformat": 4,
 "nbformat_minor": 2
}
