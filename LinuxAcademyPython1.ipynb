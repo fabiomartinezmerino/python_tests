{
  "nbformat": 4,
  "nbformat_minor": 0,
  "metadata": {
    "colab": {
      "name": "LinuxAcademyPython1.ipynb",
      "provenance": [],
      "authorship_tag": "ABX9TyP6nwyfRb6+fivwksS40msS",
      "include_colab_link": true
    },
    "kernelspec": {
      "name": "python3",
      "display_name": "Python 3"
    }
  },
  "cells": [
    {
      "cell_type": "markdown",
      "metadata": {
        "id": "view-in-github",
        "colab_type": "text"
      },
      "source": [
        "<a href=\"https://colab.research.google.com/github/fabiomartinezmerino/python_tests/blob/master/LinuxAcademyPython1.ipynb\" target=\"_parent\"><img src=\"https://colab.research.google.com/assets/colab-badge.svg\" alt=\"Open In Colab\"/></a>"
      ]
    },
    {
      "cell_type": "code",
      "metadata": {
        "id": "Csct7JoKZK_r",
        "colab_type": "code",
        "colab": {}
      },
      "source": [
        ""
      ],
      "execution_count": null,
      "outputs": []
    },
    {
      "cell_type": "markdown",
      "metadata": {
        "id": "MmyJaMTDZP9A",
        "colab_type": "text"
      },
      "source": [
        "# **Strings**"
      ]
    },
    {
      "cell_type": "code",
      "metadata": {
        "id": "6Y-qXHZkZmbq",
        "colab_type": "code",
        "colab": {
          "base_uri": "https://localhost:8080/",
          "height": 52
        },
        "outputId": "8c20a9e2-2ed3-4207-ddf3-1fcf52baa5fd"
      },
      "source": [
        "s = 'this is a string'\n",
        "\n",
        "''' using fstrings '''\n",
        "print(f\"printing what is inside variable \\\"s\\\": {s}\")\n",
        "\n",
        "''' using str.formmat() '''\n",
        "print(\"printing what is inside variable \\\"s\\\": {0}\".format(s))"
      ],
      "execution_count": null,
      "outputs": [
        {
          "output_type": "stream",
          "text": [
            "printing what is inside variable \"s\": this is a string\n",
            "printing what is inside variable \"s\": this is a string\n"
          ],
          "name": "stdout"
        }
      ]
    },
    {
      "cell_type": "markdown",
      "metadata": {
        "id": "l2QGHISDl5UE",
        "colab_type": "text"
      },
      "source": [
        "# **Numbers**"
      ]
    },
    {
      "cell_type": "code",
      "metadata": {
        "id": "TL6FXs-XmAPZ",
        "colab_type": "code",
        "colab": {
          "base_uri": "https://localhost:8080/",
          "height": 35
        },
        "outputId": "4413576e-b6b6-4f3f-c195-c1f77544fce8"
      },
      "source": [
        "floatNumber = 3.2e4\n",
        "print(f\"The number is: {str(floatNumber)}\")"
      ],
      "execution_count": null,
      "outputs": [
        {
          "output_type": "stream",
          "text": [
            "The number is: 32000.0\n"
          ],
          "name": "stdout"
        }
      ]
    },
    {
      "cell_type": "code",
      "metadata": {
        "id": "uD3z-Hp4l7_g",
        "colab_type": "code",
        "colab": {
          "base_uri": "https://localhost:8080/",
          "height": 35
        },
        "outputId": "a1e7188c-2bb9-4009-8535-f9dfe3bc7ea5"
      },
      "source": [
        "#Integer division\n",
        "i1, i2 = 5,3\n",
        "print(f\"La división entera entre {i1} y {i2} es: {i1//i2}\")"
      ],
      "execution_count": null,
      "outputs": [
        {
          "output_type": "stream",
          "text": [
            "La división entera entre 5 y 3 es: 1\n"
          ],
          "name": "stdout"
        }
      ]
    },
    {
      "cell_type": "code",
      "metadata": {
        "id": "ru0P8DVgWogo",
        "colab_type": "code",
        "colab": {
          "base_uri": "https://localhost:8080/",
          "height": 35
        },
        "outputId": "9497981d-1b02-4230-8791-c529fa4bbf80"
      },
      "source": [
        "#Module - the remainder of a division\n",
        "i1,i2 = 10, 4\n",
        "print(f\"El resto de dividir {i1} entre {i2} es: {i1%i2}\")"
      ],
      "execution_count": null,
      "outputs": [
        {
          "output_type": "stream",
          "text": [
            "El resto de dividir 10 entre 4 es: 2\n"
          ],
          "name": "stdout"
        }
      ]
    },
    {
      "cell_type": "code",
      "metadata": {
        "id": "7sYFJL0ZXKV2",
        "colab_type": "code",
        "colab": {
          "base_uri": "https://localhost:8080/",
          "height": 35
        },
        "outputId": "8856b44a-793f-473f-ce08-886c8d7955d2"
      },
      "source": [
        "#Power\n",
        "base, exponent = 2,4\n",
        "print(f\"{base} to the {exponent} power equals {base**exponent} \")"
      ],
      "execution_count": null,
      "outputs": [
        {
          "output_type": "stream",
          "text": [
            "2 to the 4 power equals 16 \n"
          ],
          "name": "stdout"
        }
      ]
    },
    {
      "cell_type": "code",
      "metadata": {
        "id": "Y-OpRTg4azYz",
        "colab_type": "code",
        "colab": {
          "base_uri": "https://localhost:8080/",
          "height": 121
        },
        "outputId": "b18521fe-c9df-4a12-e2dc-14830c44ef00"
      },
      "source": [
        "#numeric systems\n",
        "\n",
        "#binary\n",
        "numberDecimal = 321\n",
        "\n",
        "binformat = bin(numberDecimal)\n",
        "#bin returns a string\n",
        "print(f\"Type of binformat is {type(binformat)}\")\n",
        "\n",
        "print (f\"{numberDecimal} in binary is: {binformat}\")\n",
        "\n",
        "print(f\"{binformat} in decimal is: {int(binformat,2)}\")\n",
        "\n",
        "#hexadecimal\n",
        "numberDecimal = 432\n",
        "\n",
        "hexformat = hex(numberDecimal)\n",
        "#hex returns a string\n",
        "print(f\"Type of hexformat is {type(hexformat)}\")\n",
        "\n",
        "print(f\"{numberDecimal} in hexadecimal is: {hexformat}\")\n",
        "\n",
        "print(f\"{hexformat} in decimal is: {int(hexformat,16)}\")\n",
        "\n",
        "\n"
      ],
      "execution_count": null,
      "outputs": [
        {
          "output_type": "stream",
          "text": [
            "Type of binformat is <class 'str'>\n",
            "321 in binary is: 0b101000001\n",
            "0b101000001 in decimal is: 321\n",
            "Type of hexformat is <class 'str'>\n",
            "432 in hexadecimal is: 0x1b0\n",
            "0x1b0 in decimal is: 432\n"
          ],
          "name": "stdout"
        }
      ]
    },
    {
      "cell_type": "markdown",
      "metadata": {
        "id": "7lozX_RIkc_b",
        "colab_type": "text"
      },
      "source": [
        "### **Logical Operators**"
      ]
    },
    {
      "cell_type": "code",
      "metadata": {
        "id": "bPwwbw7LbU1Q",
        "colab_type": "code",
        "colab": {
          "base_uri": "https://localhost:8080/",
          "height": 104
        },
        "outputId": "ab508a0e-1d56-43f4-ec1a-2172a8684a7a"
      },
      "source": [
        "#Logical operations in numbers\n",
        "binary1 =  0b11001000\n",
        "binary2 = 0b01000000\n",
        "\n",
        "print(f\"Or operation - {binary1:0>8b} OR {binary2:0>8b} = {(binary1 | binary2):0>8b}... in decimal: {int(binary1|binary2)}\")\n",
        "print(f\"And operation - {binary1:0>8b} AND {binary2:0>8b} = {binary1 & binary2:0>8b}... in decimal: {binary1 & binary2}\")\n",
        "print(f\"Xor operation - {binary1:0>8b} XOR {binary2:0>8b} = {binary1 ^ binary2:0>8b}... in decimal: {binary1 ^ binary2}\")\n",
        "\n",
        "#Bitwise operations\n",
        "binary1 = 0b11000000\n",
        "binary2 = 0b00000011\n",
        "\n",
        "print(f\"Number in decimal format: {int(binary1)} in binary format: {binary1:0>8b} ... and now we apply >> 2 : decimal: {int (binary1 >> 2)} binary: {binary1 >>2:0>8b}\")\n",
        "print(f\"Number in decimal format: {int(binary2)} in binary format: {binary2:0>8b} ... and now we apply >> 2 : decimal: {int (binary2 << 2)} binary: {binary2 << 2:0>8b}\")"
      ],
      "execution_count": null,
      "outputs": [
        {
          "output_type": "stream",
          "text": [
            "Or operation - 11001000 OR 01000000 = 11001000... in decimal: 200\n",
            "And operation - 11001000 AND 01000000 = 01000000... in decimal: 64\n",
            "Xor operation - 11001000 XOR 01000000 = 10001000... in decimal: 136\n",
            "Number in decimal format: 192 in binary format: 11000000 ... and now we apply >> 2 : decimal: 48 binary: 00110000\n",
            "Number in decimal format: 3 in binary format: 00000011 ... and now we apply >> 2 : decimal: 12 binary: 00001100\n"
          ],
          "name": "stdout"
        }
      ]
    },
    {
      "cell_type": "code",
      "metadata": {
        "id": "XIn8EDD3P0Gk",
        "colab_type": "code",
        "colab": {
          "base_uri": "https://localhost:8080/",
          "height": 156
        },
        "outputId": "c8d99920-0f84-4c6d-ac14-6c2879efca18"
      },
      "source": [
        "# Boolean operators\n",
        "\n",
        "# not\n",
        "print(f\"Not True: {not True}\")\n",
        "\n",
        "print(f\"Not False: {not False}\")\n",
        "\n",
        "# or\n",
        "print (f\"True OR False: {True or False}\")\n",
        "\n",
        "# and\n",
        "print (f\"True AND False: {True and False}\")\n",
        "\n",
        "print (f\"False AND False: {False and False}\")\n",
        "\n",
        "# xor\n",
        "print (f\"True xor False: {True ^ False}\")\n",
        "print (f\"True xor True: {True ^ True}\")\n",
        "print (f\"True or True: {True or True}\")"
      ],
      "execution_count": null,
      "outputs": [
        {
          "output_type": "stream",
          "text": [
            "Not True: False\n",
            "Not False: True\n",
            "True OR False: True\n",
            "True AND False: False\n",
            "False AND False: False\n",
            "True xor False: True\n",
            "True xor True: False\n",
            "True or True: True\n"
          ],
          "name": "stdout"
        }
      ]
    },
    {
      "cell_type": "markdown",
      "metadata": {
        "id": "Nod0oZnamjZ0",
        "colab_type": "text"
      },
      "source": [
        "### **Type casting**"
      ]
    },
    {
      "cell_type": "code",
      "metadata": {
        "id": "ttCNNo0VmvBC",
        "colab_type": "code",
        "colab": {
          "base_uri": "https://localhost:8080/",
          "height": 69
        },
        "outputId": "f4e78082-c38a-42d1-9185-b5ca11e81597"
      },
      "source": [
        "#int\n",
        "\n",
        "print(f\"7.324 is going to be cast into an integer: {int(7.324)}\")\n",
        "\n",
        "#float\n",
        "\n",
        "print(f\"43 is going to be cast into a float: {float(43)}\")\n",
        "\n",
        "#int parsing string into an int\n",
        "\n",
        "a = int(\"32\")\n",
        "print(f\"The string 32 is going to be cast into an int: {a}\")\n",
        "\n",
        "#this is not correct\n",
        "#print(f\"The string 32 is going to be cast into an int: {int(\"32\")}\")\n",
        "\n"
      ],
      "execution_count": null,
      "outputs": [
        {
          "output_type": "stream",
          "text": [
            "7.324 is going to be cast into an integer: 7\n",
            "43 is going to be cast into a float: 43.0\n",
            "The string 32 is going to be cast into an int: 32\n"
          ],
          "name": "stdout"
        }
      ]
    },
    {
      "cell_type": "markdown",
      "metadata": {
        "id": "wzuyG18gsWJW",
        "colab_type": "text"
      },
      "source": [
        "### **Input function**"
      ]
    },
    {
      "cell_type": "code",
      "metadata": {
        "id": "pXWCUSJbscwM",
        "colab_type": "code",
        "colab": {
          "base_uri": "https://localhost:8080/",
          "height": 121
        },
        "outputId": "aab0940b-cb30-48d3-b512-14201344b55b"
      },
      "source": [
        "a = input(\"Nombre:\\n\")\n",
        "print(f\"Tu nombre es: {a}\")\n",
        "\n",
        "#input returns a string... if you want to  obtain an int from console you need to typecast\n",
        "a = int(input(\"Age?:\\n\"))\n",
        "print(f\"Your age is: {a} years\")"
      ],
      "execution_count": null,
      "outputs": [
        {
          "output_type": "stream",
          "text": [
            "Nombre:\n",
            "Fabio\n",
            "Tu nombre es: Fabio\n",
            "Age?:\n",
            "46\n",
            "Your age is: 46 years\n"
          ],
          "name": "stdout"
        }
      ]
    },
    {
      "cell_type": "markdown",
      "metadata": {
        "id": "-2KEuT242ls9",
        "colab_type": "text"
      },
      "source": [
        "### ***Lab Section - User Input***"
      ]
    },
    {
      "cell_type": "code",
      "metadata": {
        "id": "P3Iv5Xp4uYmc",
        "colab_type": "code",
        "colab": {
          "base_uri": "https://localhost:8080/",
          "height": 69
        },
        "outputId": "e4a5f925-341b-46fa-da4b-ed572821752e"
      },
      "source": [
        "#lab: convert Farenheit to celsius\n",
        "\n",
        "f = float(input(\"Input temperature in F:\\n\"))\n",
        "print(f\"{f} ºF is {(f-32)*5/9} ºC\")"
      ],
      "execution_count": null,
      "outputs": [
        {
          "output_type": "stream",
          "text": [
            "Input temperature in F:\n",
            "64\n",
            "64.0 ºF is 17.77777777777778 ºC\n"
          ],
          "name": "stdout"
        }
      ]
    },
    {
      "cell_type": "markdown",
      "metadata": {
        "id": "lLXxw0Wfl0to",
        "colab_type": "text"
      },
      "source": [
        "### **Strings Basics: Mutable & Inmutable; Object ID's id(); Length len(); Slicing**"
      ]
    },
    {
      "cell_type": "code",
      "metadata": {
        "id": "83HtIwrHl64K",
        "colab_type": "code",
        "colab": {
          "base_uri": "https://localhost:8080/",
          "height": 121
        },
        "outputId": "3001b73f-e9e4-4d63-b127-c5cf3a53c381"
      },
      "source": [
        "#strings are inmutable\n",
        "s1 = \"hola mundo\"\n",
        "print(f\"Escribiemos la variable con mayúscula al ppio: {s1.capitalize()} y el ID: {id(s1.capitalize())}\")\n",
        "print(f\"Escribimos contenido de variable original: {s1} y su ID: {id(s1)}\")\n",
        "#reasignamos variable s1\n",
        "s1 = \"hasta luego chicos\"\n",
        "print(f\"Escribimos contenido de variable original: {s1} y su ID: {id(s1)}\")\n",
        "s2 = \"hola mundo\"\n",
        "print(f\"ID de variable s1: {id(s1)}\")\n",
        "print(f\"ID de variable s2: {id(s2)}\")\n",
        "#uso de len()\n",
        "print(f\"Longitud del contenido de s1: {len(s1)} y s2: {len(s2)}\")"
      ],
      "execution_count": null,
      "outputs": [
        {
          "output_type": "stream",
          "text": [
            "Escribiemos la variable con mayúscula al ppio: Hola mundo y el ID: 140359636967600\n",
            "Escribimos contenido de variable original: hola mundo y su ID: 140359637263728\n",
            "Escribimos contenido de variable original: hasta luego chicos y su ID: 140359636826272\n",
            "ID de variable s1: 140359636826272\n",
            "ID de variable s2: 140359636967472\n",
            "Longitud del contenido de s1: 18 y s2: 10\n"
          ],
          "name": "stdout"
        }
      ]
    },
    {
      "cell_type": "code",
      "metadata": {
        "id": "M0IBAx-RqvsQ",
        "colab_type": "code",
        "colab": {
          "base_uri": "https://localhost:8080/",
          "height": 243
        },
        "outputId": "c5de8362-5bda-47f4-c1bc-561c21f35e3b"
      },
      "source": [
        "#Accediendo a caracteres concretos en un string\n",
        "s1 = \"Hola mundo!\"\n",
        "print(f\"ID: {id(s1)} - Longitud: {len(s1)}\")\n",
        "print(f\"Último carácter: {s1[len(s1)-1]} - Primer carácter: {s1[0]}\")\n",
        "#Ahora lo mismo pero con notación [-n]\n",
        "print(f\"Último carácter con notación de indexado negativo: {s1[-1]} - Primer Carácter con notación de indexado negativo: {s1[-len(s1)]}\")\n",
        "#Usamos slices\n",
        "#Escribimos todos los caracteres menos el primero y el último saltándonos uno de cada dos\n",
        "for i, c in enumerate(s1[1:len(s1)-1:2]):\n",
        "  print(f\"Indice: {i} - carácter: {c}\\n\")\n",
        "\n",
        "#Escribimos todos los caracteres menos el primero y el  último saltándonos uno de cada dos y usando indexado negativo\n",
        "for i, c in enumerate(s1[-1:-len(s1)-1:2]):\n",
        "  print(f\"Indice: {i} - carácter: {c}\\n\")\n"
      ],
      "execution_count": null,
      "outputs": [
        {
          "output_type": "stream",
          "text": [
            "ID: 140359636257584 - Longitud: 11\n",
            "Último carácter: ! - Primer carácter: H\n",
            "Último carácter con notación de indexado negativo: ! - Primer Carácter con notación de indexado negativo: H\n",
            "Indice: 0 - carácter: o\n",
            "\n",
            "Indice: 1 - carácter: a\n",
            "\n",
            "Indice: 2 - carácter: m\n",
            "\n",
            "Indice: 3 - carácter: n\n",
            "\n",
            "Indice: 4 - carácter: o\n",
            "\n"
          ],
          "name": "stdout"
        }
      ]
    },
    {
      "cell_type": "markdown",
      "metadata": {
        "id": "Ppb99Bzj2wzU",
        "colab_type": "text"
      },
      "source": [
        "### ***Lab Section - User input & string slicing***"
      ]
    },
    {
      "cell_type": "code",
      "metadata": {
        "id": "LZgboc3f24gt",
        "colab_type": "code",
        "colab": {
          "base_uri": "https://localhost:8080/",
          "height": 364
        },
        "outputId": "b0975205-3660-406d-8357-abecea671a92"
      },
      "source": [
        "'''\n",
        "We're going to write a script that takes user input, so that we're not working with static content, and print out some information and permutations of the string that the user has entered. Our string-info.py script will print the following information about the user provided message:\n",
        "\n",
        "The first character\n",
        "The last character\n",
        "The middle character (for even length strings we'll return the integer just after the exact center).\n",
        "Every even index character\n",
        "Every odd index character\n",
        "The message in reverse\n",
        "\n",
        "'''\n",
        "\n",
        "#Obtain user input\n",
        "\n",
        "str = input (\"Por favor introduce un mensaje y pulsa enter:\\n\")\n",
        "\n",
        "#Imprimimos la información solicitada sobre el mensaje\n",
        "\n",
        "print(f\"El  primer carácter del mensaje es: {str[0]}\")\n",
        "print(f\"El último carácter del mensaje es: {str[-1]}\")\n",
        "print(f\"El carácter del medio es: {str[len(str)//2]}\")\n",
        "\n",
        "#Iteramos para imprimir caracteres pares\n",
        "print(\"Imprimimos los caracteres en posición par\\n\")\n",
        "for _, c in enumerate(str[::2]):\n",
        "  print(f\"caracter es: {c}\")\n",
        "\n",
        "#Iteramos para imprimir caracteres impares\n",
        "print(\"Imprimimos los caracteres en posición impar\\n\")\n",
        "for _, c in enumerate(str[1::2]):\n",
        "  print(f\"caracter es: {c}\")\n",
        "\n",
        "#Mensaje al revés\n",
        "\n",
        "print(f\"Mensaje al revés: {str[-1::-1]}\")\n",
        "\n",
        "\n"
      ],
      "execution_count": null,
      "outputs": [
        {
          "output_type": "stream",
          "text": [
            "Por favor introduce un mensaje y pulsa enter:\n",
            "Hola mundo\n",
            "El  primer carácter del mensaje es: H\n",
            "El último carácter del mensaje es: o\n",
            "El carácter del medio es: m\n",
            "Imprimimos los caracteres en posición par\n",
            "\n",
            "caracter es: H\n",
            "caracter es: l\n",
            "caracter es:  \n",
            "caracter es: u\n",
            "caracter es: d\n",
            "Imprimimos los caracteres en posición impar\n",
            "\n",
            "caracter es: o\n",
            "caracter es: a\n",
            "caracter es: m\n",
            "caracter es: n\n",
            "caracter es: o\n",
            "Mensaje al revés: odnum aloH\n"
          ],
          "name": "stdout"
        }
      ]
    },
    {
      "cell_type": "code",
      "metadata": {
        "id": "iEOws_JAbpP0",
        "colab_type": "code",
        "colab": {
          "base_uri": "https://localhost:8080/",
          "height": 52
        },
        "outputId": "675a40f0-f2d4-4dae-cc66-74ae6c90b1ca"
      },
      "source": [
        "#Imprimimos mensaje introducido al reves\n",
        "s = input(\"Introduzca mensaje:\")\n",
        "print( s[-1::-1])\n",
        "\n"
      ],
      "execution_count": null,
      "outputs": [
        {
          "output_type": "stream",
          "text": [
            "Introduzca mensaje:Hola Mundo!\n",
            "!odnuM aloH\n"
          ],
          "name": "stdout"
        }
      ]
    },
    {
      "cell_type": "markdown",
      "metadata": {
        "id": "870U9kjd9p8-",
        "colab_type": "text"
      },
      "source": [
        "### **Lists**"
      ]
    },
    {
      "cell_type": "code",
      "metadata": {
        "id": "NnxwY8LKnBhB",
        "colab_type": "code",
        "colab": {
          "base_uri": "https://localhost:8080/",
          "height": 255
        },
        "outputId": "2503b81a-1490-4c56-dbeb-763efbef47f3"
      },
      "source": [
        "#Declarando una lista\n",
        "\n",
        "list1 = [\"Hola\", \"Adios\",{\"key1\":1,\"key2\":2},1,2,3]\n",
        "print(f\"Lista a imprimir: {list1}\")\n",
        "\n",
        "#Concatenación de listas\n",
        "\n",
        "list1 += [{1:32.456,2:928,3:678}]\n",
        "iteraLista(list1)\n",
        "\n",
        "#Borrar el final de una lista\n",
        "\n",
        "list1[len(list1)-4:]=[]\n",
        "iteraLista(list1)\n",
        "\n",
        "#Saber si un item está en la lista\n",
        "myinput = input(\"dame un entero o una palabra:\\n\")\n",
        "if myinput.isdigit():\n",
        "  Print(\"Es entero\")\n",
        "  myinput = int(myinput)  \n",
        "if (myinput in list1):\n",
        "  print(f\"El objeto de tipo {type(myinput)} y valor {myinput} está en la lista! en la posición nº: {list1.index(myinput)}\")\n",
        "else:\n",
        "  print(f\"El numero {myinput} no está en la lista\")\n",
        "\n",
        "#Iterando e imprimiendo los tipos de cada item\n",
        "def iteraLista(inputList):\n",
        "  for index, miItem in enumerate(inputList):\n",
        "    print(f\"Item nº: {index} es de tipo: {type(miItem)} y tiene valor: {miItem}\")\n",
        "  return\n",
        "\n"
      ],
      "execution_count": 22,
      "outputs": [
        {
          "output_type": "stream",
          "text": [
            "Lista a imprimir: ['Hola', 'Adios', {'key1': 1, 'key2': 2}, 1, 2, 3]\n",
            "Item nº: 0 es de tipo: <class 'str'> y tiene valor: Hola\n",
            "Item nº: 1 es de tipo: <class 'str'> y tiene valor: Adios\n",
            "Item nº: 2 es de tipo: <class 'dict'> y tiene valor: {'key1': 1, 'key2': 2}\n",
            "Item nº: 3 es de tipo: <class 'int'> y tiene valor: 1\n",
            "Item nº: 4 es de tipo: <class 'int'> y tiene valor: 2\n",
            "Item nº: 5 es de tipo: <class 'int'> y tiene valor: 3\n",
            "Item nº: 6 es de tipo: <class 'dict'> y tiene valor: {1: 32.456, 2: 928, 3: 678}\n",
            "Item nº: 0 es de tipo: <class 'str'> y tiene valor: Hola\n",
            "Item nº: 1 es de tipo: <class 'str'> y tiene valor: Adios\n",
            "Item nº: 2 es de tipo: <class 'dict'> y tiene valor: {'key1': 1, 'key2': 2}\n",
            "dame un entero o una palabra:\n",
            "Hola\n",
            "El objeto de tipo <class 'str'> y valor Hola está en la lista! en la posición nº: 0\n"
          ],
          "name": "stdout"
        }
      ]
    },
    {
      "cell_type": "code",
      "metadata": {
        "id": "WmGD-YSe2O6A",
        "colab_type": "code",
        "colab": {
          "base_uri": "https://localhost:8080/",
          "height": 85
        },
        "outputId": "8fe6b0fd-45ef-48af-9217-05a04982e3a8"
      },
      "source": [
        "# 1) Set the users variable to be an empty list\n",
        "users = list()\n",
        "\n",
        "assert users == [], f\"Expected `users` to be [] but got: {repr(users)}\"\n",
        "\n",
        "# 2) Add 'kevin', 'bob', and 'alice' to the users list in that order without reassigning the variable.\n",
        "users.append(\"kevin\")\n",
        "users.append(\"bob\")\n",
        "users.append(\"alice\")\n",
        "assert users == ['kevin', 'bob', 'alice'], f\"Expected `users` to be ['kevin', 'bob', 'alice'] but got: {repr(users)}\"\n",
        "\n",
        "# 3) Remove 'bob' from the users list without reassigning the variable.\n",
        "if \"bob\" in users:\n",
        "  del(users[users.index(\"bob\")])\n",
        "\n",
        "assert users == ['kevin', 'alice'], f\"Expected `users` to be ['kevin', 'alice'] but got: {repr(users)}\"\n",
        "print(users)\n",
        "# 4) Reverse the users list and assign the result to `rev_users`\n",
        "rev_users = list(reversed(users))\n",
        "print(rev_users)\n",
        "\n",
        "\n",
        "assert rev_users == ['alice', 'kevin'], f\"Expected `rev_users` to be ['alice', 'kevin'] but got: {repr(rev_users)}\"\n",
        "\n",
        "# 5) Add the user 'melody' to users where 'bob' used to be.\n",
        "users.insert(1,\"melody\")\n",
        "\n",
        "assert users == ['kevin', 'melody', 'alice'], f\"Expected `users` to be ['kevin', 'melody', 'alice'] but got: {repr(users)}\"\n",
        "\n",
        "# 6) Add the users 'andy', 'wanda', and 'jim' to the users list using a single command\n",
        "\n",
        "users += [\"andy\",\"wanda\",\"jim\"]\n",
        "print(users)\n",
        "\n",
        "assert users == ['kevin', 'melody', 'alice', 'andy', 'wanda', 'jim'], f\"Expected `users` to be ['kevin', 'melody', 'alice', 'andy', 'wanda', 'jim'] but got: {repr(users)}\"\n",
        "\n",
        "# 7) Slice the users lists to return the 3rd and 4th items and assign the result to `center_users`\n",
        "\n",
        "center_users = users[2:4]\n",
        "print(center_users)\n",
        "\n",
        "assert center_users == ['alice', 'andy'], f\"Expected `users` to be ['alice', 'andy'] but got: {repr(center_users)}\"\n",
        "\n",
        "\n"
      ],
      "execution_count": 40,
      "outputs": [
        {
          "output_type": "stream",
          "text": [
            "['kevin', 'alice']\n",
            "['alice', 'kevin']\n",
            "['kevin', 'melody', 'alice', 'andy', 'wanda', 'jim']\n",
            "['alice', 'andy']\n"
          ],
          "name": "stdout"
        }
      ]
    }
  ]
}