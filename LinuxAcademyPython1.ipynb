{
  "nbformat": 4,
  "nbformat_minor": 0,
  "metadata": {
    "colab": {
      "name": "LinuxAcademyPython1.ipynb",
      "provenance": [],
      "authorship_tag": "ABX9TyPCx0lzvTu7QIOwjGvGukwL",
      "include_colab_link": true
    },
    "kernelspec": {
      "name": "python3",
      "display_name": "Python 3"
    }
  },
  "cells": [
    {
      "cell_type": "markdown",
      "metadata": {
        "id": "view-in-github",
        "colab_type": "text"
      },
      "source": [
        "<a href=\"https://colab.research.google.com/github/fabiomartinezmerino/python_tests/blob/master/LinuxAcademyPython1.ipynb\" target=\"_parent\"><img src=\"https://colab.research.google.com/assets/colab-badge.svg\" alt=\"Open In Colab\"/></a>"
      ]
    },
    {
      "cell_type": "code",
      "metadata": {
        "id": "Csct7JoKZK_r",
        "colab_type": "code",
        "colab": {}
      },
      "source": [
        ""
      ],
      "execution_count": null,
      "outputs": []
    },
    {
      "cell_type": "markdown",
      "metadata": {
        "id": "MmyJaMTDZP9A",
        "colab_type": "text"
      },
      "source": [
        "# **Strings**"
      ]
    },
    {
      "cell_type": "code",
      "metadata": {
        "id": "6Y-qXHZkZmbq",
        "colab_type": "code",
        "colab": {
          "base_uri": "https://localhost:8080/",
          "height": 52
        },
        "outputId": "8c20a9e2-2ed3-4207-ddf3-1fcf52baa5fd"
      },
      "source": [
        "s = 'this is a string'\n",
        "\n",
        "''' using fstrings '''\n",
        "print(f\"printing what is inside variable \\\"s\\\": {s}\")\n",
        "\n",
        "''' using str.formmat() '''\n",
        "print(\"printing what is inside variable \\\"s\\\": {0}\".format(s))"
      ],
      "execution_count": null,
      "outputs": [
        {
          "output_type": "stream",
          "text": [
            "printing what is inside variable \"s\": this is a string\n",
            "printing what is inside variable \"s\": this is a string\n"
          ],
          "name": "stdout"
        }
      ]
    },
    {
      "cell_type": "markdown",
      "metadata": {
        "id": "l2QGHISDl5UE",
        "colab_type": "text"
      },
      "source": [
        "# **Numbers**"
      ]
    },
    {
      "cell_type": "code",
      "metadata": {
        "id": "TL6FXs-XmAPZ",
        "colab_type": "code",
        "colab": {
          "base_uri": "https://localhost:8080/",
          "height": 35
        },
        "outputId": "4413576e-b6b6-4f3f-c195-c1f77544fce8"
      },
      "source": [
        "floatNumber = 3.2e4\n",
        "print(f\"The number is: {str(floatNumber)}\")"
      ],
      "execution_count": null,
      "outputs": [
        {
          "output_type": "stream",
          "text": [
            "The number is: 32000.0\n"
          ],
          "name": "stdout"
        }
      ]
    },
    {
      "cell_type": "code",
      "metadata": {
        "id": "uD3z-Hp4l7_g",
        "colab_type": "code",
        "colab": {
          "base_uri": "https://localhost:8080/",
          "height": 35
        },
        "outputId": "a1e7188c-2bb9-4009-8535-f9dfe3bc7ea5"
      },
      "source": [
        "#Integer division\n",
        "i1, i2 = 5,3\n",
        "print(f\"La división entera entre {i1} y {i2} es: {i1//i2}\")"
      ],
      "execution_count": null,
      "outputs": [
        {
          "output_type": "stream",
          "text": [
            "La división entera entre 5 y 3 es: 1\n"
          ],
          "name": "stdout"
        }
      ]
    },
    {
      "cell_type": "code",
      "metadata": {
        "id": "ru0P8DVgWogo",
        "colab_type": "code",
        "colab": {
          "base_uri": "https://localhost:8080/",
          "height": 35
        },
        "outputId": "9497981d-1b02-4230-8791-c529fa4bbf80"
      },
      "source": [
        "#Module - the remainder of a division\n",
        "i1,i2 = 10, 4\n",
        "print(f\"El resto de dividir {i1} entre {i2} es: {i1%i2}\")"
      ],
      "execution_count": null,
      "outputs": [
        {
          "output_type": "stream",
          "text": [
            "El resto de dividir 10 entre 4 es: 2\n"
          ],
          "name": "stdout"
        }
      ]
    },
    {
      "cell_type": "code",
      "metadata": {
        "id": "7sYFJL0ZXKV2",
        "colab_type": "code",
        "colab": {
          "base_uri": "https://localhost:8080/",
          "height": 35
        },
        "outputId": "8856b44a-793f-473f-ce08-886c8d7955d2"
      },
      "source": [
        "#Power\n",
        "base, exponent = 2,4\n",
        "print(f\"{base} to the {exponent} power equals {base**exponent} \")"
      ],
      "execution_count": null,
      "outputs": [
        {
          "output_type": "stream",
          "text": [
            "2 to the 4 power equals 16 \n"
          ],
          "name": "stdout"
        }
      ]
    },
    {
      "cell_type": "code",
      "metadata": {
        "id": "Y-OpRTg4azYz",
        "colab_type": "code",
        "colab": {
          "base_uri": "https://localhost:8080/",
          "height": 121
        },
        "outputId": "b18521fe-c9df-4a12-e2dc-14830c44ef00"
      },
      "source": [
        "#numeric systems\n",
        "\n",
        "#binary\n",
        "numberDecimal = 321\n",
        "\n",
        "binformat = bin(numberDecimal)\n",
        "#bin returns a string\n",
        "print(f\"Type of binformat is {type(binformat)}\")\n",
        "\n",
        "print (f\"{numberDecimal} in binary is: {binformat}\")\n",
        "\n",
        "print(f\"{binformat} in decimal is: {int(binformat,2)}\")\n",
        "\n",
        "#hexadecimal\n",
        "numberDecimal = 432\n",
        "\n",
        "hexformat = hex(numberDecimal)\n",
        "#hex returns a string\n",
        "print(f\"Type of hexformat is {type(hexformat)}\")\n",
        "\n",
        "print(f\"{numberDecimal} in hexadecimal is: {hexformat}\")\n",
        "\n",
        "print(f\"{hexformat} in decimal is: {int(hexformat,16)}\")\n",
        "\n",
        "\n"
      ],
      "execution_count": null,
      "outputs": [
        {
          "output_type": "stream",
          "text": [
            "Type of binformat is <class 'str'>\n",
            "321 in binary is: 0b101000001\n",
            "0b101000001 in decimal is: 321\n",
            "Type of hexformat is <class 'str'>\n",
            "432 in hexadecimal is: 0x1b0\n",
            "0x1b0 in decimal is: 432\n"
          ],
          "name": "stdout"
        }
      ]
    },
    {
      "cell_type": "markdown",
      "metadata": {
        "id": "7lozX_RIkc_b",
        "colab_type": "text"
      },
      "source": [
        "### **Logical Operators**"
      ]
    },
    {
      "cell_type": "code",
      "metadata": {
        "id": "bPwwbw7LbU1Q",
        "colab_type": "code",
        "colab": {
          "base_uri": "https://localhost:8080/",
          "height": 104
        },
        "outputId": "ab508a0e-1d56-43f4-ec1a-2172a8684a7a"
      },
      "source": [
        "#Logical operations in numbers\n",
        "binary1 =  0b11001000\n",
        "binary2 = 0b01000000\n",
        "\n",
        "print(f\"Or operation - {binary1:0>8b} OR {binary2:0>8b} = {(binary1 | binary2):0>8b}... in decimal: {int(binary1|binary2)}\")\n",
        "print(f\"And operation - {binary1:0>8b} AND {binary2:0>8b} = {binary1 & binary2:0>8b}... in decimal: {binary1 & binary2}\")\n",
        "print(f\"Xor operation - {binary1:0>8b} XOR {binary2:0>8b} = {binary1 ^ binary2:0>8b}... in decimal: {binary1 ^ binary2}\")\n",
        "\n",
        "#Bitwise operations\n",
        "binary1 = 0b11000000\n",
        "binary2 = 0b00000011\n",
        "\n",
        "print(f\"Number in decimal format: {int(binary1)} in binary format: {binary1:0>8b} ... and now we apply >> 2 : decimal: {int (binary1 >> 2)} binary: {binary1 >>2:0>8b}\")\n",
        "print(f\"Number in decimal format: {int(binary2)} in binary format: {binary2:0>8b} ... and now we apply >> 2 : decimal: {int (binary2 << 2)} binary: {binary2 << 2:0>8b}\")"
      ],
      "execution_count": null,
      "outputs": [
        {
          "output_type": "stream",
          "text": [
            "Or operation - 11001000 OR 01000000 = 11001000... in decimal: 200\n",
            "And operation - 11001000 AND 01000000 = 01000000... in decimal: 64\n",
            "Xor operation - 11001000 XOR 01000000 = 10001000... in decimal: 136\n",
            "Number in decimal format: 192 in binary format: 11000000 ... and now we apply >> 2 : decimal: 48 binary: 00110000\n",
            "Number in decimal format: 3 in binary format: 00000011 ... and now we apply >> 2 : decimal: 12 binary: 00001100\n"
          ],
          "name": "stdout"
        }
      ]
    },
    {
      "cell_type": "code",
      "metadata": {
        "id": "XIn8EDD3P0Gk",
        "colab_type": "code",
        "colab": {
          "base_uri": "https://localhost:8080/",
          "height": 156
        },
        "outputId": "c8d99920-0f84-4c6d-ac14-6c2879efca18"
      },
      "source": [
        "# Boolean operators\n",
        "\n",
        "# not\n",
        "print(f\"Not True: {not True}\")\n",
        "\n",
        "print(f\"Not False: {not False}\")\n",
        "\n",
        "# or\n",
        "print (f\"True OR False: {True or False}\")\n",
        "\n",
        "# and\n",
        "print (f\"True AND False: {True and False}\")\n",
        "\n",
        "print (f\"False AND False: {False and False}\")\n",
        "\n",
        "# xor\n",
        "print (f\"True xor False: {True ^ False}\")\n",
        "print (f\"True xor True: {True ^ True}\")\n",
        "print (f\"True or True: {True or True}\")"
      ],
      "execution_count": null,
      "outputs": [
        {
          "output_type": "stream",
          "text": [
            "Not True: False\n",
            "Not False: True\n",
            "True OR False: True\n",
            "True AND False: False\n",
            "False AND False: False\n",
            "True xor False: True\n",
            "True xor True: False\n",
            "True or True: True\n"
          ],
          "name": "stdout"
        }
      ]
    },
    {
      "cell_type": "markdown",
      "metadata": {
        "id": "Nod0oZnamjZ0",
        "colab_type": "text"
      },
      "source": [
        "### **Type casting**"
      ]
    },
    {
      "cell_type": "code",
      "metadata": {
        "id": "ttCNNo0VmvBC",
        "colab_type": "code",
        "colab": {
          "base_uri": "https://localhost:8080/",
          "height": 69
        },
        "outputId": "f4e78082-c38a-42d1-9185-b5ca11e81597"
      },
      "source": [
        "#int\n",
        "\n",
        "print(f\"7.324 is going to be cast into an integer: {int(7.324)}\")\n",
        "\n",
        "#float\n",
        "\n",
        "print(f\"43 is going to be cast into a float: {float(43)}\")\n",
        "\n",
        "#int parsing string into an int\n",
        "\n",
        "a = int(\"32\")\n",
        "print(f\"The string 32 is going to be cast into an int: {a}\")\n",
        "\n",
        "#this is not correct\n",
        "#print(f\"The string 32 is going to be cast into an int: {int(\"32\")}\")\n",
        "\n"
      ],
      "execution_count": 70,
      "outputs": [
        {
          "output_type": "stream",
          "text": [
            "7.324 is going to be cast into an integer: 7\n",
            "43 is going to be cast into a float: 43.0\n",
            "The string 32 is going to be cast into an int: 32\n"
          ],
          "name": "stdout"
        }
      ]
    },
    {
      "cell_type": "markdown",
      "metadata": {
        "id": "wzuyG18gsWJW",
        "colab_type": "text"
      },
      "source": [
        "### **Input function**"
      ]
    },
    {
      "cell_type": "code",
      "metadata": {
        "id": "pXWCUSJbscwM",
        "colab_type": "code",
        "colab": {
          "base_uri": "https://localhost:8080/",
          "height": 121
        },
        "outputId": "aab0940b-cb30-48d3-b512-14201344b55b"
      },
      "source": [
        "a = input(\"Nombre:\\n\")\n",
        "print(f\"Tu nombre es: {a}\")\n",
        "\n",
        "#input returns a string... if you want to  obtain an int from console you need to typecast\n",
        "a = int(input(\"Age?:\\n\"))\n",
        "print(f\"Your age is: {a} years\")"
      ],
      "execution_count": 72,
      "outputs": [
        {
          "output_type": "stream",
          "text": [
            "Nombre:\n",
            "Fabio\n",
            "Tu nombre es: Fabio\n",
            "Age?:\n",
            "46\n",
            "Your age is: 46 years\n"
          ],
          "name": "stdout"
        }
      ]
    },
    {
      "cell_type": "code",
      "metadata": {
        "id": "P3Iv5Xp4uYmc",
        "colab_type": "code",
        "colab": {
          "base_uri": "https://localhost:8080/",
          "height": 69
        },
        "outputId": "e4a5f925-341b-46fa-da4b-ed572821752e"
      },
      "source": [
        "#lab: convert Farenheit to celsius\n",
        "\n",
        "f = float(input(\"Input temperature in F:\\n\"))\n",
        "print(f\"{f} ºF is {(f-32)*5/9} ºC\")"
      ],
      "execution_count": 74,
      "outputs": [
        {
          "output_type": "stream",
          "text": [
            "Input temperature in F:\n",
            "64\n",
            "64.0 ºF is 17.77777777777778 ºC\n"
          ],
          "name": "stdout"
        }
      ]
    },
    {
      "cell_type": "markdown",
      "metadata": {
        "id": "lLXxw0Wfl0to",
        "colab_type": "text"
      },
      "source": [
        "### **Strings Basics: Mutable & Inmutable; Object ID's id(); Length len(); Slicing**"
      ]
    },
    {
      "cell_type": "code",
      "metadata": {
        "id": "83HtIwrHl64K",
        "colab_type": "code",
        "colab": {
          "base_uri": "https://localhost:8080/",
          "height": 121
        },
        "outputId": "3001b73f-e9e4-4d63-b127-c5cf3a53c381"
      },
      "source": [
        "#strings are inmutable\n",
        "s1 = \"hola mundo\"\n",
        "print(f\"Escribiemos la variable con mayúscula al ppio: {s1.capitalize()} y el ID: {id(s1.capitalize())}\")\n",
        "print(f\"Escribimos contenido de variable original: {s1} y su ID: {id(s1)}\")\n",
        "#reasignamos variable s1\n",
        "s1 = \"hasta luego chicos\"\n",
        "print(f\"Escribimos contenido de variable original: {s1} y su ID: {id(s1)}\")\n",
        "s2 = \"hola mundo\"\n",
        "print(f\"ID de variable s1: {id(s1)}\")\n",
        "print(f\"ID de variable s2: {id(s2)}\")\n",
        "#uso de len()\n",
        "print(f\"Longitud del contenido de s1: {len(s1)} y s2: {len(s2)}\")"
      ],
      "execution_count": 5,
      "outputs": [
        {
          "output_type": "stream",
          "text": [
            "Escribiemos la variable con mayúscula al ppio: Hola mundo y el ID: 140359636967600\n",
            "Escribimos contenido de variable original: hola mundo y su ID: 140359637263728\n",
            "Escribimos contenido de variable original: hasta luego chicos y su ID: 140359636826272\n",
            "ID de variable s1: 140359636826272\n",
            "ID de variable s2: 140359636967472\n",
            "Longitud del contenido de s1: 18 y s2: 10\n"
          ],
          "name": "stdout"
        }
      ]
    },
    {
      "cell_type": "code",
      "metadata": {
        "id": "M0IBAx-RqvsQ",
        "colab_type": "code",
        "colab": {
          "base_uri": "https://localhost:8080/",
          "height": 52
        },
        "outputId": "97e75904-8286-4642-868a-5245d25239bb"
      },
      "source": [
        "#Accediendo a caracteres concretos en un string\n",
        "s1 = \"Hola mundo!\"\n",
        "print(f\"ID: {id(s1)} - Longitud: {len(s1)}\")\n",
        "print(f\"Último carácter: {s1[len(s1)-1]} - Primer carácter: {s1[0]}\")\n",
        "#Ahora lo mismo pero con notación [-n]\n",
        "\n"
      ],
      "execution_count": 7,
      "outputs": [
        {
          "output_type": "stream",
          "text": [
            "ID: 140359636700528 - Longitud: 11\n",
            "Último carácter: ! - Primer carácter: H\n"
          ],
          "name": "stdout"
        }
      ]
    }
  ]
}