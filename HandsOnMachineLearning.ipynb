{
  "nbformat": 4,
  "nbformat_minor": 0,
  "metadata": {
    "colab": {
      "name": "HandsOnMachineLearning.ipynb",
      "provenance": [],
      "authorship_tag": "ABX9TyOdW3yxYLsOdfrVlYU+qwYb",
      "include_colab_link": true
    },
    "kernelspec": {
      "name": "python3",
      "display_name": "Python 3"
    }
  },
  "cells": [
    {
      "cell_type": "markdown",
      "metadata": {
        "id": "view-in-github",
        "colab_type": "text"
      },
      "source": [
        "<a href=\"https://colab.research.google.com/github/fabiomartinezmerino/python_tests/blob/master/HandsOnMachineLearning.ipynb\" target=\"_parent\"><img src=\"https://colab.research.google.com/assets/colab-badge.svg\" alt=\"Open In Colab\"/></a>"
      ]
    },
    {
      "cell_type": "code",
      "metadata": {
        "colab": {
          "base_uri": "https://localhost:8080/"
        },
        "id": "KFsFVHopgqSS",
        "outputId": "704d3c24-f37f-4345-c66f-f6b5172b2fea"
      },
      "source": [
        "#Single Layer perceptron example - iris dataset\n",
        "import numpy as np\n",
        "from sklearn.linear_model import Perceptron\n",
        "from sklearn.datasets import load_iris\n",
        "\n",
        "iris = load_iris()\n",
        "X = iris.data[:,(2,3)]\n",
        "\n",
        "Y = (iris.target==0).astype(np.int)\n",
        "\n",
        "per_clf = Perceptron()\n",
        "per_clf.fit(X,Y)\n",
        "\n",
        "y_pred = per_clf.predict([[1.2,.7]])\n",
        "print (y_pred)\n"
      ],
      "execution_count": 12,
      "outputs": [
        {
          "output_type": "stream",
          "text": [
            "[1]\n"
          ],
          "name": "stdout"
        }
      ]
    },
    {
      "cell_type": "code",
      "metadata": {
        "id": "Y-lkq7EUgv41"
      },
      "source": [
        ""
      ],
      "execution_count": null,
      "outputs": []
    }
  ]
}