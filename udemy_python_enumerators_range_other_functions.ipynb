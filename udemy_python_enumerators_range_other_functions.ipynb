{
 "cells": [
  {
   "cell_type": "code",
   "execution_count": 1,
   "metadata": {},
   "outputs": [
    {
     "data": {
      "text/plain": [
       "[0, 5, 10, 15, 20, 25, 30, 35, 40, 45, 50, 55, 60, 65, 70, 75, 80, 85, 90, 95]"
      ]
     },
     "execution_count": 1,
     "metadata": {},
     "output_type": "execute_result"
    }
   ],
   "source": [
    "#you can set up lists from range\n",
    "my_list = list (range(0,100,5))\n",
    "my_list"
   ]
  },
  {
   "cell_type": "code",
   "execution_count": 2,
   "metadata": {},
   "outputs": [
    {
     "name": "stdout",
     "output_type": "stream",
     "text": [
      "The list index is 0 and the item is 0\n",
      "The list index is 1 and the item is 5\n",
      "The list index is 2 and the item is 10\n",
      "The list index is 3 and the item is 15\n",
      "The list index is 4 and the item is 20\n",
      "The list index is 5 and the item is 25\n",
      "The list index is 6 and the item is 30\n",
      "The list index is 7 and the item is 35\n",
      "The list index is 8 and the item is 40\n",
      "The list index is 9 and the item is 45\n",
      "The list index is 10 and the item is 50\n",
      "The list index is 11 and the item is 55\n",
      "The list index is 12 and the item is 60\n",
      "The list index is 13 and the item is 65\n",
      "The list index is 14 and the item is 70\n",
      "The list index is 15 and the item is 75\n",
      "The list index is 16 and the item is 80\n",
      "The list index is 17 and the item is 85\n",
      "The list index is 18 and the item is 90\n",
      "The list index is 19 and the item is 95\n"
     ]
    }
   ],
   "source": [
    "#you can obtain a list of tuples to iterate over with enumerate and then use unpacking\n",
    "for myindex, myitem in enumerate(my_list):\n",
    "    print (\"The list index is {0} and the item is {1}\".format(myindex,myitem))"
   ]
  },
  {
   "cell_type": "code",
   "execution_count": 5,
   "metadata": {},
   "outputs": [
    {
     "name": "stdout",
     "output_type": "stream",
     "text": [
      "At the index 1 you can find this mate: Pedro that have taken this grade: Matematicas\n",
      "At the index 2 you can find this mate: Juan that have taken this grade: Ingles\n",
      "At the index 3 you can find this mate: Luis that have taken this grade: Lengua\n",
      "At the index 4 you can find this mate: Santiago that have taken this grade: Gimnasia\n"
     ]
    }
   ],
   "source": [
    "#zip zips together several list item into a \"enumerable\" list of tuples\n",
    "mylist1 = [1,2,3,4,5,6]\n",
    "mylist2 = [\"Pedro\",\"Juan\",\"Luis\",\"Santiago\"]\n",
    "mylist3 = [\"Matematicas\", \"Ingles\", \"Lengua\",\"Gimnasia\"]\n",
    "for index, name, grade in zip(mylist1,mylist2,mylist3):\n",
    "    print(\"At the index {0} you can find this mate: {1} that have taken this grade: {2}\".format(index, name, grade))"
   ]
  },
  {
   "cell_type": "code",
   "execution_count": 6,
   "metadata": {},
   "outputs": [
    {
     "data": {
      "text/plain": [
       "False"
      ]
     },
     "execution_count": 6,
     "metadata": {},
     "output_type": "execute_result"
    }
   ],
   "source": [
    "#in is used to test if an item belongs to a list, dictionary etc.\n",
    "test_list = [1,2,3,\"x\",\"j\"]\n",
    "10 in test_list\n"
   ]
  },
  {
   "cell_type": "code",
   "execution_count": 7,
   "metadata": {},
   "outputs": [
    {
     "data": {
      "text/plain": [
       "True"
      ]
     },
     "execution_count": 7,
     "metadata": {},
     "output_type": "execute_result"
    }
   ],
   "source": [
    "my_dict = {\"uno\":1,\"dos\":2,\"tres\":3}\n",
    "\"uno\" in my_dict"
   ]
  },
  {
   "cell_type": "code",
   "execution_count": 8,
   "metadata": {},
   "outputs": [
    {
     "data": {
      "text/plain": [
       "False"
      ]
     },
     "execution_count": 8,
     "metadata": {},
     "output_type": "execute_result"
    }
   ],
   "source": [
    "\"uno\" in my_dict.items()"
   ]
  },
  {
   "cell_type": "code",
   "execution_count": 10,
   "metadata": {},
   "outputs": [
    {
     "data": {
      "text/plain": [
       "True"
      ]
     },
     "execution_count": 10,
     "metadata": {},
     "output_type": "execute_result"
    }
   ],
   "source": [
    "\"uno\" in my_dict.keys()"
   ]
  },
  {
   "cell_type": "code",
   "execution_count": 11,
   "metadata": {},
   "outputs": [
    {
     "data": {
      "text/plain": [
       "True"
      ]
     },
     "execution_count": 11,
     "metadata": {},
     "output_type": "execute_result"
    }
   ],
   "source": [
    "3 in my_dict.values()"
   ]
  },
  {
   "cell_type": "code",
   "execution_count": 14,
   "metadata": {},
   "outputs": [
    {
     "data": {
      "text/plain": [
       "True"
      ]
     },
     "execution_count": 14,
     "metadata": {},
     "output_type": "execute_result"
    }
   ],
   "source": []
  },
  {
   "cell_type": "code",
   "execution_count": 15,
   "metadata": {},
   "outputs": [
    {
     "data": {
      "text/plain": [
       "'HeLlO'"
      ]
     },
     "execution_count": 15,
     "metadata": {},
     "output_type": "execute_result"
    }
   ],
   "source": [
    "def myfunc(input_string):\n",
    "    output_string = \"\"\n",
    "    for index, character in enumerate(input_string):\n",
    "        if index % 2 == 0:\n",
    "            output_string = output_string + character.upper()\n",
    "        else:\n",
    "            output_string = output_string + character.lower()\n",
    "    return output_string\n",
    "\n",
    "myfunc(\"hello\")\n",
    "            \n",
    "    \n",
    "        "
   ]
  },
  {
   "cell_type": "code",
   "execution_count": null,
   "metadata": {},
   "outputs": [],
   "source": []
  }
 ],
 "metadata": {
  "kernelspec": {
   "display_name": "Python 3",
   "language": "python",
   "name": "python3"
  },
  "language_info": {
   "codemirror_mode": {
    "name": "ipython",
    "version": 3
   },
   "file_extension": ".py",
   "mimetype": "text/x-python",
   "name": "python",
   "nbconvert_exporter": "python",
   "pygments_lexer": "ipython3",
   "version": "3.6.5"
  }
 },
 "nbformat": 4,
 "nbformat_minor": 2
}
