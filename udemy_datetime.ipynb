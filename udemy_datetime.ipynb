{
 "cells": [
  {
   "cell_type": "code",
   "execution_count": 66,
   "metadata": {},
   "outputs": [
    {
     "name": "stdout",
     "output_type": "stream",
     "text": [
      "La hora es: 23 y los minutos: 36\n",
      "Hora: 23, Minuto: 36, Año: 2018 Mes: 8\n",
      "La fecha de hoy es: - Año - 2018 - Mes - 8 - Día - 28\n"
     ]
    }
   ],
   "source": [
    "import datetime\n",
    "\n",
    "my_test_time = time(datetime.datetime.now().hour,datetime.datetime.now().minute )\n",
    "print (\"La hora es: {0} y los minutos: {1}\".format(my_test_time.hour,my_test_time.minute))\n",
    "\n",
    "now_time = datetime.datetime.now()\n",
    "print(\"Hora: {0}, Minuto: {1}, Año: {2} Mes: {3}\"\n",
    "      .format(now_time.hour, now_time.minute, now_time.year, now_time.month))\n",
    "\n",
    "my_test_date = date.today()\n",
    "\n",
    "print (\"La fecha de hoy es: - Año - {0} - Mes - {1} - Día - {2}\".format(my_test_date.year, my_test_date.month, my_test_date.day))\n",
    "\n",
    "\n",
    "\n"
   ]
  },
  {
   "cell_type": "code",
   "execution_count": null,
   "metadata": {},
   "outputs": [],
   "source": []
  },
  {
   "cell_type": "code",
   "execution_count": null,
   "metadata": {},
   "outputs": [],
   "source": []
  },
  {
   "cell_type": "code",
   "execution_count": null,
   "metadata": {},
   "outputs": [],
   "source": []
  }
 ],
 "metadata": {
  "kernelspec": {
   "display_name": "Python 3",
   "language": "python",
   "name": "python3"
  },
  "language_info": {
   "codemirror_mode": {
    "name": "ipython",
    "version": 3
   },
   "file_extension": ".py",
   "mimetype": "text/x-python",
   "name": "python",
   "nbconvert_exporter": "python",
   "pygments_lexer": "ipython3",
   "version": "3.6.5"
  }
 },
 "nbformat": 4,
 "nbformat_minor": 2
}
