{
 "cells": [
  {
   "cell_type": "code",
   "execution_count": 3,
   "metadata": {},
   "outputs": [
    {
     "name": "stdout",
     "output_type": "stream",
     "text": [
      "S\n",
      "l\n",
      " \n",
      "P\n",
      "i\n",
      "n\n",
      "t\n",
      "e\n",
      "r\n",
      "e\n",
      "s\n",
      "t\n"
     ]
    }
   ],
   "source": [
    "#pass\n",
    "test_string = \"Salaa Pinterest\"\n",
    "for character in test_string:\n",
    "    if character == \"a\":\n",
    "        pass\n",
    "    else:\n",
    "        print (character)"
   ]
  },
  {
   "cell_type": "code",
   "execution_count": 5,
   "metadata": {},
   "outputs": [
    {
     "name": "stdout",
     "output_type": "stream",
     "text": [
      "S\n",
      "l\n",
      " \n",
      "P\n",
      "i\n",
      "n\n",
      "t\n",
      "e\n",
      "r\n",
      "e\n",
      "s\n",
      "t\n"
     ]
    }
   ],
   "source": [
    "#continue\n",
    "test_string = \"Salaa Pinterest\"\n",
    "for character in test_string:\n",
    "    \n",
    "    if character == \"a\":\n",
    "        continue #from here control flow goes to next iteration\n",
    "    \n",
    "    print (character)"
   ]
  },
  {
   "cell_type": "code",
   "execution_count": 7,
   "metadata": {},
   "outputs": [
    {
     "name": "stdout",
     "output_type": "stream",
     "text": [
      "S\n",
      "l\n",
      " \n",
      "P\n",
      "i\n",
      "n\n",
      "t\n"
     ]
    }
   ],
   "source": [
    "test_string = \"Salaa Pinterest\"\n",
    "for character in test_string:\n",
    "    if character == \"a\":\n",
    "    \n",
    "        continue\n",
    "   \n",
    "    elif character == \"e\":\n",
    "        \n",
    "        break\n",
    "    \n",
    "    print (character)\n",
    "    "
   ]
  },
  {
   "cell_type": "code",
   "execution_count": null,
   "metadata": {},
   "outputs": [],
   "source": []
  }
 ],
 "metadata": {
  "kernelspec": {
   "display_name": "Python 3",
   "language": "python",
   "name": "python3"
  },
  "language_info": {
   "codemirror_mode": {
    "name": "ipython",
    "version": 3
   },
   "file_extension": ".py",
   "mimetype": "text/x-python",
   "name": "python",
   "nbconvert_exporter": "python",
   "pygments_lexer": "ipython3",
   "version": "3.6.5"
  }
 },
 "nbformat": 4,
 "nbformat_minor": 2
}
